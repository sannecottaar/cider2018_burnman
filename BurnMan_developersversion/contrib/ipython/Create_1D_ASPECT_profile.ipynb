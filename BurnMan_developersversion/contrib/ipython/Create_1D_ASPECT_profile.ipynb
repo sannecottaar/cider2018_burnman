{
 "cells": [
  {
   "cell_type": "code",
   "execution_count": null,
   "metadata": {
    "collapsed": true
   },
   "outputs": [],
   "source": [
    "%matplotlib notebook \n",
    "#%matplotlib inline\n",
    "import ipywidgets as widgets\n",
    "from IPython.display import display \n",
    "from IPython.display import clear_output\n",
    "from IPython.display import FileLink, FileLinks\n",
    "import burnman\n",
    "import numpy as np\n",
    "import matplotlib.pyplot as plt\n",
    "from scipy.optimize import fsolve, brentq\n",
    "from scipy.integrate import odeint\n",
    "from scipy.interpolate import UnivariateSpline\n",
    "plt.style.use('bmh')"
   ]
  },
  {
   "cell_type": "markdown",
   "metadata": {},
   "source": [
    "# Create relaxed geodynamic 1D profile\n",
    "\n",
    "** NOTE: please wait until this page loads completely**\n",
    "\n",
    "In the mantle, it is common to assume that convecting material is at chemical equilibrium; all of the reactions between phases keep pace with the changes in pressure and temperature. Because of this relaxation, physical properties such as heat capacity $C_P$, thermal expansion $\\alpha$ and compressibility $\\beta$ must be computed by numerical differentiation of the entropy $\\mathcal{S}$ and volume $\\mathcal{V}$. It is these values, rather than the unrelaxed values output as standard by BurnMan and PerpleX which should be used in geodynamic simulations.\n",
    "\n",
    "Relaxed properties can sometimes be very different from their unrelaxed counterparts. Take, for example, the univariant reaction forsterite -> Mg-wadsleyite. These transformation involves a step change in volume, and thus the relaxed compressibility at the transition is infinite. Obviously, if geodynamics software uses compressibility as an input parameter, then whichever meshing is chosen, it will completely miss the transition. There are two solutions to this problem:\n",
    "* Calculate the entropy and volume at the quadrature points, and calculate $\\nabla\\mathcal{S}$ and $\\nabla\\mathcal{V}$ within each cell. This method is computationally expensive and there may be convergence problems if the quadrature points are very close to the positions of near-univariant reactions.\n",
    "* Smooth $\\mathcal{S}(P, T)$ and $\\mathcal{V}(P, T)$ by convolution with a 2D Gaussian (in $P$ and $T$) before calculating $C_P$, $\\alpha$ and $\\beta$. A good rule of thumb is that reactions should span about 4 cells for the latent heat to be captured within a few percent.\n",
    "\n",
    "The second method is used here to create 1D material property profiles which can be directly used by $ASPECT$. The user of this notebook can vary important mineral physics parameters (rock type, potential temperature, surface gravity) and smoothing parameters (Gaussian widths)."
   ]
  },
  {
   "cell_type": "code",
   "execution_count": null,
   "metadata": {
    "collapsed": true
   },
   "outputs": [],
   "source": [
    "default_file = '../../burnman/data/input_perplex/in23_1.tab' # 'example23_hires.tab' # '../../burnman/data/input_perplex/in23_1.tab'\n",
    "rock_path_widget = widgets.Text(value=default_file, \n",
    "                                placeholder='Type the *local* path here',\n",
    "                                description='Path to PerpleX tab file:')\n",
    "potlT_widget = widgets.FloatText(value=1550,\n",
    "                                        step=1, description='Potential temperature (K):')\n",
    "maxP_widget = widgets.FloatText(value=25, description='Max. pressure (GPa):')\n",
    "g0_widget = widgets.FloatText(value=9.81, step=0.01, description='Surface gravity (m/s$^{2}$):')\n",
    "r0_widget = widgets.FloatText(value=6371., description='Outer radius (km):')\n",
    "n_points_widget = widgets.BoundedIntText(value=251, min=51, max=501, description='number of profile points:')\n",
    "\n",
    "n_P_gridpoints_widget = widgets.BoundedIntText(value=501, min=51, max=2001, description='n. P gridpoints:')\n",
    "n_T_gridpoints_widget = widgets.BoundedIntText(value=101, min=11, max=1001, description='n. T gridpoints:')\n",
    "max_T_gaussian_widget = widgets.FloatText(value=30., description='Max. T sigma (K):')\n",
    "truncate_widget = widgets.BoundedFloatText(value=4, min=3, max=6, description='Sigma truncation')"
   ]
  },
  {
   "cell_type": "code",
   "execution_count": null,
   "metadata": {},
   "outputs": [],
   "source": [
    "w1=widgets.VBox([rock_path_widget, potlT_widget, maxP_widget, g0_widget, r0_widget], layout=widgets.Layout(width='50%'))\n",
    "w2=widgets.VBox([n_points_widget, n_P_gridpoints_widget, n_T_gridpoints_widget, max_T_gaussian_widget, truncate_widget])\n",
    "w=widgets.HBox([w1, w2])\n",
    "display(w)"
   ]
  },
  {
   "cell_type": "code",
   "execution_count": null,
   "metadata": {
    "collapsed": true
   },
   "outputs": [],
   "source": [
    "# Define fitting function to find the temperature along the isentrope\n",
    "def isentrope(rock, pressures, entropy, T_guess):\n",
    "    def _deltaS(T, S, P, rock):\n",
    "        rock.set_state(P, T)\n",
    "        return rock.S - S\n",
    "\n",
    "    sol = T_guess\n",
    "    temperatures = np.empty_like(pressures)\n",
    "    for i, P in enumerate(pressures):\n",
    "        sol = brentq(_deltaS, rock.bounds[1][0], rock.bounds[1][1], args=(entropy, P, rock))\n",
    "        temperatures[i] = sol\n",
    "\n",
    "    return temperatures\n",
    "\n",
    "# Define function to find an isentrope given a\n",
    "# 2D entropy interpolation function\n",
    "def interp_isentrope(interp, pressures, entropy, T_guess):\n",
    "    def _deltaS(args, S, P):\n",
    "        T = args[0]\n",
    "        return interp(P, T)[0] - S\n",
    "    \n",
    "    sol = [T_guess]\n",
    "    temperatures = np.empty_like(pressures)\n",
    "    for i, P in enumerate(pressures):\n",
    "        sol = fsolve(_deltaS, sol, args=(entropy, P))\n",
    "        temperatures[i] = sol[0]\n",
    "\n",
    "    return temperatures\n",
    "\n",
    "# Define function to self consistently calculate depth and gravity profiles\n",
    "# from pressure and density profiles.\n",
    "def compute_depth_gravity_profiles(pressures, densities, surface_gravity, outer_radius):\n",
    "    gravity = [surface_gravity] * len(pressures) # starting guess\n",
    "    n_gravity_iterations = 5\n",
    "    for i in range(n_gravity_iterations):    \n",
    "        # Integrate the hydrostatic equation\n",
    "        # Make a spline fit of densities as a function of pressures\n",
    "        rhofunc = UnivariateSpline(pressures, densities)\n",
    "        # Make a spline fit of gravity as a function of depth\n",
    "        gfunc = UnivariateSpline(pressures, gravity)\n",
    "            \n",
    "        # integrate the hydrostatic equation\n",
    "        depths = np.ravel(odeint((lambda p, x: 1./(gfunc(x) * rhofunc(x))), 0.0, pressures))\n",
    "        \n",
    "        radii = outer_radius - depths\n",
    "            \n",
    "        rhofunc = UnivariateSpline(radii[::-1], densities[::-1])\n",
    "        poisson = lambda p, x: 4.0 * np.pi * burnman.constants.G * rhofunc(x) * x * x\n",
    "        gravity = np.ravel(odeint(poisson, surface_gravity*radii[0]*radii[0], radii))\n",
    "        gravity = gravity / radii / radii\n",
    "    return depths, gravity\n",
    "\n",
    "\n",
    "def relaxed_profile(rock, potential_temperature, max_pressure,\n",
    "                    surface_gravity, outer_radius, n_points, n_gridpoints, pressure_stdev,\n",
    "                    temperature_smoothing_factor, max_temperature_stdev, truncate,\n",
    "                    min_grid_temperature, max_grid_temperature):\n",
    "\n",
    "    min_grid_pressure = rock.bounds[0][0]\n",
    "    max_grid_pressure = rock.bounds[0][1]\n",
    "    min_grid_temperature = rock.bounds[1][0]\n",
    "    max_grid_temperature = rock.bounds[1][1]\n",
    "\n",
    "    rock.set_state(1.e5, potential_temperature)\n",
    "    \n",
    "    entropy = rock.S\n",
    "    pressures = np.linspace(1.e5, max_pressure, n_points)\n",
    "    temperatures = isentrope(rock, pressures, entropy, potential_temperature)\n",
    "    isentrope_spline = UnivariateSpline(pressures, temperatures)\n",
    "\n",
    "    grid_pressures = np.linspace(min_grid_pressure, max_grid_pressure, n_gridpoints[0])\n",
    "    grid_temperatures = np.linspace(min_grid_temperature, max_grid_temperature, n_gridpoints[1])\n",
    "    \n",
    "    unsmoothed_grid_isentrope_temperatures = isentrope_spline(grid_pressures)\n",
    "    \n",
    "    pp, TT = np.meshgrid(grid_pressures, grid_temperatures)\n",
    "    mesh_shape = pp.shape\n",
    "    pp = np.ndarray.flatten(pp)\n",
    "    TT = np.ndarray.flatten(TT)\n",
    "    \n",
    "    grid_entropies = np.zeros_like(pp)\n",
    "    grid_volumes = np.zeros_like(pp)\n",
    "    Tdiff = np.abs(isentrope_spline(pp) - TT)\n",
    "    \n",
    "    # We could compute properties over the whole grid:\n",
    "    # grid_entropies, grid_volumes = rock.evaluate(['S', 'V'], pp, TT)\n",
    "    # However, we can save some time by computing only when temperature is close enough\n",
    "    # to the unsmoothed isentrope to affect the smoothing.\n",
    "    # The maximum temperature jump for most rocks is about 50 K, so a reasonable Tmax is\n",
    "    # ~50 + truncate*temperature_stdev. We pad a bit more (an extra 30 K) just to be sure.\n",
    "    \n",
    "    temperature_stdev = np.min([max_temperature_stdev,\n",
    "                                temperature_smoothing_factor * pressure_stdev *\n",
    "                                np.max(np.abs( np.gradient(unsmoothed_grid_isentrope_temperatures) )) /\n",
    "                                (grid_pressures[1] - grid_pressures[0])])\n",
    "    Tdiff_max = 50 + 30 + truncate*temperature_stdev\n",
    "    mask = [idx for idx, Td in enumerate(Tdiff) if Td < Tdiff_max]\n",
    "    grid_entropies[mask], grid_volumes[mask] = rock.evaluate(['S', 'V'], pp[mask], TT[mask])\n",
    "    \n",
    "    grid_entropies = grid_entropies.reshape(mesh_shape)\n",
    "    grid_volumes = grid_volumes.reshape(mesh_shape)\n",
    "    \n",
    "    # Having defined the grid and calculated unsmoothed properties,\n",
    "    # we now calculate the smoothed entropy and volume and derivatives with\n",
    "    # respect to pressure and temperature.\n",
    "    S_interps = burnman.tools.interp_smoothed_array_and_derivatives(array=grid_entropies,\n",
    "                                                                    x_values=grid_pressures,\n",
    "                                                                    y_values=grid_temperatures,\n",
    "                                                                    x_stdev=pressure_stdev,\n",
    "                                                                    y_stdev=temperature_stdev,\n",
    "                                                                    truncate=truncate)\n",
    "    interp_smoothed_S, interp_smoothed_dSdP, interp_smoothed_dSdT = S_interps\n",
    "    \n",
    "    V_interps = burnman.tools.interp_smoothed_array_and_derivatives(array=grid_volumes,\n",
    "                                                                    x_values=grid_pressures,\n",
    "                                                                    y_values=grid_temperatures,\n",
    "                                                                    x_stdev=pressure_stdev,\n",
    "                                                                    y_stdev=temperature_stdev,\n",
    "                                                                    truncate=truncate)\n",
    "    \n",
    "    interp_smoothed_V, interp_smoothed_dVdP, interp_smoothed_dVdT = V_interps\n",
    "    \n",
    "    # Now we can calculate and plot the relaxed and smoothed properties along the isentrope \n",
    "    smoothed_temperatures = interp_isentrope(interp_smoothed_S, pressures, entropy, potential_temperature)\n",
    "    densities = rock.evaluate(['rho'], pressures, smoothed_temperatures)[0]\n",
    "    depths, gravity = compute_depth_gravity_profiles(pressures, densities, surface_gravity, outer_radius)\n",
    "    \n",
    "    volumes = np.array([interp_smoothed_V(p, T)[0] for (p, T) in zip(*[pressures, smoothed_temperatures])])\n",
    "    dSdT = np.array([interp_smoothed_dSdT(p, T)[0] for (p, T) in zip(*[pressures, smoothed_temperatures])])\n",
    "    dVdT = np.array([interp_smoothed_dVdT(p, T)[0] for (p, T) in zip(*[pressures, smoothed_temperatures])])\n",
    "    dVdP = np.array([interp_smoothed_dVdP(p, T)[0] for (p, T) in zip(*[pressures, smoothed_temperatures])])\n",
    "    \n",
    "    alphas_relaxed = dVdT / volumes\n",
    "    compressibilities_relaxed = -dVdP / volumes\n",
    "    specific_heats_relaxed = smoothed_temperatures * dSdT / rock.params['molar_mass']\n",
    "    \n",
    "        \n",
    "    dT = 0.1\n",
    "    Vpsub, Vssub = rock.evaluate(['p_wave_velocity', 'shear_wave_velocity'],\n",
    "                                 pressures, smoothed_temperatures-dT/2.)\n",
    "    Vpadd, Vsadd = rock.evaluate(['p_wave_velocity', 'shear_wave_velocity'],\n",
    "                                 pressures, smoothed_temperatures+dT/2.)\n",
    "\n",
    "    Vps = (Vpadd + Vpsub)/2.\n",
    "    Vss = (Vsadd + Vssub)/2.\n",
    "    dVpdT = (Vpadd - Vpsub)/dT\n",
    "    dVsdT = (Vsadd - Vssub)/dT\n",
    "    \n",
    "    #print('Min and max relaxed property when pressure smoothing standard deviation is {0:.2f} GPa'.format(pressure_stdev/1.e9))\n",
    "    #print('Specific heat: {0:.2e}, {1:.2e}'.format(np.min(specific_heats_relaxed), np.max(specific_heats_relaxed)))\n",
    "    #print('Thermal expansivity: {0:.2e}, {1:.2e}'.format(np.min(alphas_relaxed), np.max(alphas_relaxed)))\n",
    "    #print('Compressibilities: {0:.2e}, {1:.2e}\\n'.format(np.min(compressibilities_relaxed), np.max(compressibilities_relaxed)))\n",
    "\n",
    "    return (smoothed_temperatures, depths, gravity, densities,\n",
    "            alphas_relaxed, compressibilities_relaxed, specific_heats_relaxed,\n",
    "            Vss, Vps, dVsdT, dVpdT)\n"
   ]
  },
  {
   "cell_type": "code",
   "execution_count": null,
   "metadata": {},
   "outputs": [],
   "source": [
    "rock = None\n",
    "fig = None\n",
    "potential_temperature = None\n",
    "default_P_gaussian = None\n",
    "default_T_smoothing = None\n",
    "max_pressure = None\n",
    "surface_gravity = None\n",
    "outer_radius = None\n",
    "n_points = None\n",
    "n_gridpoints = None\n",
    "max_temperature_stdev = None\n",
    "truncate = None\n",
    "min_grid_temperature = None\n",
    "max_grid_temperature = None\n",
    "\n",
    "T_line = None\n",
    "g_line = None\n",
    "alpha_line = None\n",
    "beta_line = None\n",
    "cp_line = None\n",
    "\n",
    "x = None\n",
    "pressures = None\n",
    "\n",
    "def setup(button):\n",
    "    global rock, fig, potential_temperature, default_P_gaussian, default_T_smoothing, max_pressure, surface_gravity, outer_radius, n_points, n_gridpoints, max_temperature_stdev, truncate, min_grid_temperature, max_grid_temperature\n",
    "    global T_line, g_line, alpha_line, beta_line, cp_line, x, xlabel, pressures\n",
    "    clear_output()\n",
    "    rock = burnman.PerplexMaterial(rock_path_widget.value)\n",
    "    potential_temperature = potlT_widget.value\n",
    "    max_pressure = maxP_widget.value * 1.e9\n",
    "    surface_gravity = g0_widget.value\n",
    "    outer_radius = r0_widget.value * 1000.\n",
    "    n_points = n_points_widget.value\n",
    "\n",
    "\n",
    "    n_gridpoints = (n_P_gridpoints_widget.value, \n",
    "                    n_T_gridpoints_widget.value) # number of p, T grid points for smoothing S and V\n",
    "    max_temperature_stdev = max_T_gaussian_widget.value # max T_stdev\n",
    "    truncate = truncate_widget.value # truncates the convolution Gaussian at 4 sigma\n",
    "    \n",
    "    # First we calculate the isentrope at a given potential temperature\n",
    "    rock.set_state(1.e5, potential_temperature)\n",
    "    entropy = rock.S\n",
    "    pressures = np.linspace(1.e5, max_pressure, n_points)\n",
    "    temperatures = isentrope(rock, pressures, entropy, potential_temperature)\n",
    "    isentrope_spline = UnivariateSpline(pressures, temperatures)\n",
    "\n",
    "    # Properties can then be calculated along the isentrope\n",
    "    properties = rock.evaluate(['V', 'rho', 'molar_heat_capacity_p',\n",
    "                                'thermal_expansivity', 'isothermal_compressibility',\n",
    "                                'p_wave_velocity', 'shear_wave_velocity'],\n",
    "                               pressures, temperatures)\n",
    "    volumes, densities, C_p, alphas, compressibilities, p_wave_velocities, s_wave_velocities = properties\n",
    "    specific_heats = C_p / rock.params['molar_mass']\n",
    "    depths, gravity = compute_depth_gravity_profiles(pressures, densities,\n",
    "                                                     surface_gravity, outer_radius)\n",
    "\n",
    "\n",
    "    #x = pressures/1.e9\n",
    "    x = depths/1.e3\n",
    "    xlabel = 'Depths (km)'\n",
    "    \n",
    "    plt.rcParams['figure.figsize'] = 8, 5 # inches\n",
    "    fig = plt.figure()\n",
    "    px, py = [2, 3]\n",
    "    ax_T = fig.add_subplot(px, py, 1)\n",
    "    ax_T.plot(x, temperatures, label='unrelaxed')\n",
    "    ax_T.set_ylabel('Temperature (K)')\n",
    "    ax_T.set_xlabel(xlabel)\n",
    "\n",
    "    ax_g = fig.add_subplot(px, py, 2)\n",
    "    ax_g.plot(x, gravity)\n",
    "    ax_g.set_ylabel('Gravity (m/s^2)')\n",
    "    ax_g.set_xlabel(xlabel)\n",
    "\n",
    "    ax_rho = fig.add_subplot(px, py, 3)\n",
    "    ax_rho.plot(x, densities, label='$\\rho$ (kg/m$^3$)')\n",
    "    ax_rho.plot(x, p_wave_velocities, label='P (km/s)')\n",
    "    ax_rho.plot(x, s_wave_velocities, label='S (km/s)')\n",
    "    ax_rho.set_ylabel('Densities/Velocities')\n",
    "    ax_rho.set_xlabel(xlabel) \n",
    "    \n",
    "    ax_alpha = fig.add_subplot(px, py, 4)\n",
    "    ax_alpha.plot(x, alphas)\n",
    "    ax_alpha.set_ylabel('alpha (/K)')\n",
    "    ax_alpha.set_xlabel(xlabel)\n",
    "\n",
    "    ax_beta = fig.add_subplot(px, py, 5)\n",
    "    ax_beta.plot(x, compressibilities)\n",
    "    ax_beta.set_ylabel('compressibilities (/Pa)')\n",
    "    ax_beta.set_xlabel(xlabel)\n",
    "\n",
    "    ax_cp = fig.add_subplot(px, py, 6)\n",
    "    ax_cp.plot(x, specific_heats)\n",
    "    ax_cp.set_ylabel('Cp (J/K/kg)')\n",
    "    ax_cp.set_xlabel(xlabel)   \n",
    "    \n",
    "    default_P_gaussian = 0.5e9\n",
    "    default_T_smoothing = 0.25\n",
    "\n",
    "    # Relaxed, unsmoothed properties\n",
    "    smoothed_temperatures, depths, gravity, densities, alphas_relaxed, compressibilities_relaxed, specific_heats_relaxed, Vss, Vps, dVsdT, dVpdT = relaxed_profile(rock, potential_temperature, max_pressure, surface_gravity, outer_radius, n_points, n_gridpoints, 0., default_T_smoothing, max_temperature_stdev, truncate, \n",
    "                                                                                                                                                                    min_grid_temperature, max_grid_temperature)\n",
    "\n",
    "    ax_T.plot(x, smoothed_temperatures, label='relaxed')\n",
    "    ax_g.plot(x, gravity)\n",
    "    ax_alpha.plot(x, alphas_relaxed)\n",
    "    ax_beta.plot(x, compressibilities_relaxed)\n",
    "    ax_cp.plot(x, specific_heats_relaxed)\n",
    "\n",
    "    # Relaxed, smoothed properties\n",
    "    smoothed_temperatures, depths, gravity, densities, alphas_relaxed, compressibilities_relaxed, specific_heats_relaxed, Vss, Vps, dVsdT, dVpdT = relaxed_profile(rock, potential_temperature, max_pressure, surface_gravity, outer_radius, n_points, n_gridpoints, default_P_gaussian, default_T_smoothing, max_temperature_stdev, truncate,\n",
    "                                                                                                                                                                    min_grid_temperature, max_grid_temperature)\n",
    "\n",
    "    T_line, = ax_T.plot(x, smoothed_temperatures, label='relaxed, smoothed')\n",
    "    g_line, = ax_g.plot(x, gravity)\n",
    "    alpha_line, = ax_alpha.plot(x, alphas_relaxed)\n",
    "    beta_line, = ax_beta.plot(x, compressibilities_relaxed)\n",
    "    cp_line, = ax_cp.plot(x, specific_heats_relaxed)\n",
    "\n",
    "    ax_T.legend(loc='lower right',prop={'size':8})\n",
    "    \n",
    "    fig.tight_layout()\n",
    "\n",
    "\n",
    "btn = widgets.Button(description=\"update\")\n",
    "btn.on_click(setup)\n",
    "setup(None) # run setup once in the beginning\n",
    "display(btn) "
   ]
  },
  {
   "cell_type": "code",
   "execution_count": null,
   "metadata": {},
   "outputs": [],
   "source": [
    "@widgets.interact(potential_temperature=widgets.FloatText(value=potential_temperature, description='Potential temperature (K):', continuous_update=False),\n",
    "                  P_gaussian_GPa=widgets.FloatText(value=default_P_gaussian/1.e9, min=0.0, max=5.0, description='P smoothing $\\sigma$ (GPa):', continuous_update=False),\n",
    "          T_smoothing=widgets.FloatSlider(value = default_T_smoothing, min=0.0, max=0.5, step=0.01, description='T smoothing factor', continuous_update=False))\n",
    "def update_plot(potential_temperature, P_gaussian_GPa, T_smoothing):\n",
    "    # Relaxed, smoothed properties\n",
    "    smoothed_temperatures, depths, gravity, densities, alphas_relaxed, compressibilities_relaxed, specific_heats_relaxed, Vss, Vps, dVsdT, dVpdT = relaxed_profile(rock, potential_temperature, max_pressure, surface_gravity, outer_radius, n_points, n_gridpoints, P_gaussian_GPa*1.e9, T_smoothing, max_temperature_stdev, truncate,\n",
    "                                                                                                                                                                    min_grid_temperature, max_grid_temperature)\n",
    "\n",
    "    T_line.set_data([x, smoothed_temperatures])\n",
    "    g_line.set_data([x, gravity])\n",
    "    alpha_line.set_data([x, alphas_relaxed])\n",
    "    beta_line.set_data([x, compressibilities_relaxed])\n",
    "    cp_line.set_data([x, specific_heats_relaxed])\n",
    "\n",
    "    plt.draw()\n",
    "\n",
    "    # Convert to equal slices in depth\n",
    "    p_spline = UnivariateSpline(depths, pressures)\n",
    "    depths_eq = np.linspace(depths[0], depths[-1], n_points)\n",
    "    pressures_eq = p_spline(depths_eq)\n",
    "    smoothed_temperatures = np.interp(pressures_eq, pressures, smoothed_temperatures)\n",
    "    densities = np.interp(pressures_eq, pressures, densities)\n",
    "    gravity = np.interp(pressures_eq, pressures, gravity)\n",
    "    alphas_relaxed = np.interp(pressures_eq, pressures, alphas_relaxed)\n",
    "    specific_heats_relaxed = np.interp(pressures_eq, pressures, specific_heats_relaxed)\n",
    "    compressibilities_relaxed = np.interp(pressures_eq, pressures, compressibilities_relaxed)\n",
    "    Vss = np.interp(pressures_eq, pressures, Vss)\n",
    "    Vps = np.interp(pressures_eq, pressures, Vps)\n",
    "    dVsdT = np.interp(pressures_eq, pressures, dVsdT)\n",
    "    dVpdT = np.interp(pressures_eq, pressures, dVpdT)\n",
    "\n",
    "\n",
    "    # Finally, here's the ability to output smoothed, relaxed properties for use in ASPECT\n",
    "    # depth, pressure, temperature, density, gravity, Cp (per kilo), thermal expansivity\n",
    "    outfile = 'isentrope_properties.txt'\n",
    "    np.savetxt(outfile, X=np.array([depths_eq, pressures_eq, smoothed_temperatures,\n",
    "                                                       densities, gravity, alphas_relaxed,\n",
    "                                                       specific_heats_relaxed,\n",
    "                                                       compressibilities_relaxed,\n",
    "                                                       Vss, Vps, dVsdT, dVpdT]).T,\n",
    "               header='# This ASPECT-compatible file contains material properties calculated along an isentrope by the BurnMan software.\\n# POINTS: '+str(n_points)+' \\n# depth (m), pressure (Pa), temperature (K), density (kg/m^3), gravity (m/s^2), thermal expansivity (1/K), specific heat (J/K/kg), compressibility (1/Pa), seismic Vs (m/s), seismic Vp (m/s), seismic dVs/dT (m/s/K), seismic dVp/dT (m/s/K)\\ndepth                   pressure                temperature             density                 gravity                 thermal_expansivity     specific_heat           compressibility \tseismic_Vs              seismic_Vp              seismic_dVs_dT          seismic_dVp_dT',\n",
    "               fmt='%.10e', delimiter='\\t', comments='')\n",
    "\n",
    "    print('File saved to {0}'.format(outfile))\n",
    "    \n",
    "    display(FileLink(outfile))"
   ]
  },
  {
   "cell_type": "code",
   "execution_count": null,
   "metadata": {},
   "outputs": [],
   "source": [
    "%%html\n",
    "<script>\n",
    "    // Note:\n",
    "    // This html code block will\n",
    "    // 1. do \"run-all-cells\" 0.5s after the kernel is loaded\n",
    "    // 2. hide all code blocks (and offer a button to toggle the code)\n",
    "    require(\n",
    "        ['base/js/namespace', 'jquery'], \n",
    "        function(jupyter, $) {\n",
    "            $(jupyter.events).on(\"kernel_ready.Kernel\", function () {\n",
    "                // js widgets are not available immediately. Instead, trigger this a little later:\n",
    "                console.log(\"kernel_ready triggered, preparing auto run-all-cells\");\n",
    "                setTimeout(function() {\n",
    "                            console.log(\"Auto-running all cells...\");\n",
    "                            jupyter.actions.call('jupyter-notebook:run-all-cells');\n",
    "                           }, 500);\n",
    "                //jupyter.actions.call('jupyter-notebook:save-notebook');\n",
    "            });\n",
    "        }\n",
    "    );\n",
    "code_show=false; \n",
    "function code_toggle() {\n",
    "    if (code_show){\n",
    "\t$('div.input').hide();\n",
    "    } else {\n",
    "\t$('div.input').show();\n",
    "    }\n",
    "    code_show = !code_show\n",
    "} \n",
    "function init() { $('div.input').hide();}\n",
    "$( document ).ready(init);\n",
    "$( document ).load(init);\n",
    "</script>\n",
    "<form action=\"javascript:code_toggle()\"><input type=\"submit\" value=\"Click here to toggle on/off the raw code.\"></form>\n"
   ]
  },
  {
   "cell_type": "code",
   "execution_count": null,
   "metadata": {
    "collapsed": true
   },
   "outputs": [],
   "source": []
  }
 ],
 "metadata": {
  "kernelspec": {
   "display_name": "Python 3",
   "language": "python",
   "name": "python3"
  },
  "language_info": {
   "codemirror_mode": {
    "name": "ipython",
    "version": 2
   },
   "file_extension": ".py",
   "mimetype": "text/x-python",
   "name": "python",
   "nbconvert_exporter": "python",
   "pygments_lexer": "ipython2",
   "version": "2.7.12"
  },
  "widgets": {
   "state": {
    "00cd58f4139c44c0afd3e5a1a8dc0ce6": {
     "views": [
      {
       "cell_index": 4
      }
     ]
    },
    "1f5a9835b66a4a30bf5979c71220aaf5": {
     "views": [
      {
       "cell_index": 5
      }
     ]
    },
    "293e629328764925954b515887354db7": {
     "views": [
      {
       "cell_index": 3
      }
     ]
    },
    "2af4495b5f744137929783da0744eb4e": {
     "views": [
      {
       "cell_index": 4
      }
     ]
    },
    "2f057a0d6f9e4f0a99d57555c2b69ad9": {
     "views": [
      {
       "cell_index": 3
      }
     ]
    },
    "352845fdb1154917819f0fb105b827dc": {
     "views": [
      {
       "cell_index": 3
      }
     ]
    },
    "3719d9e58af84c84964a987452c89143": {
     "views": [
      {
       "cell_index": 3
      }
     ]
    },
    "4e7a2298c568448986e6903e7007c3ad": {
     "views": [
      {
       "cell_index": 3
      }
     ]
    },
    "51a2351b90bc4a65b353c78dcb5b1395": {
     "views": [
      {
       "cell_index": 3
      }
     ]
    },
    "56a7a2d4b0ce4ea7b0b69d9bf9f9b902": {
     "views": [
      {
       "cell_index": 4
      }
     ]
    },
    "5de34cd7fe074af59b2a8e2c4990a602": {
     "views": [
      {
       "cell_index": 3
      }
     ]
    },
    "61ca870e057b4df5b9911ac4f72c52a9": {
     "views": [
      {
       "cell_index": 4
      }
     ]
    },
    "69653fb1aeb94ade8c7bc426d29cd1de": {
     "views": [
      {
       "cell_index": 4
      }
     ]
    },
    "69894023bec54c3aa354c2a7e97a4b81": {
     "views": [
      {
       "cell_index": 4
      }
     ]
    },
    "7b2df34d13664355951d3d233ac69757": {
     "views": [
      {
       "cell_index": 4
      }
     ]
    },
    "7f10aa737d3241c9a70fc0222f75811d": {
     "views": [
      {
       "cell_index": 3
      }
     ]
    },
    "8a0a690b97984f1da451fdf19204299a": {
     "views": [
      {
       "cell_index": 4
      }
     ]
    },
    "8ce9093cfadb49db8d8ac1bee156c100": {
     "views": [
      {
       "cell_index": 3
      }
     ]
    },
    "91e0694f4d164ead903a6c5a0024b973": {
     "views": [
      {
       "cell_index": 3
      }
     ]
    },
    "943f263d581741aa92ceec77ddcb132d": {
     "views": [
      {
       "cell_index": 4
      }
     ]
    },
    "a7e0c22d3c434e4eb5b4a9c069689a5e": {
     "views": [
      {
       "cell_index": 3
      }
     ]
    },
    "c9e764c73b844effb3bbf512d47bf2c6": {
     "views": [
      {
       "cell_index": 3
      }
     ]
    },
    "ccdd1a84b1f14af1832e23e9b1b1dc1f": {
     "views": [
      {
       "cell_index": 6
      }
     ]
    },
    "d19a7f4417cb4611bff97e7d00c41802": {
     "views": [
      {
       "cell_index": 4
      }
     ]
    },
    "df2666a8acc746229695a8d29d24df10": {
     "views": [
      {
       "cell_index": 4
      }
     ]
    },
    "e1ed4f87995a49c7bef065bbf232e806": {
     "views": [
      {
       "cell_index": 3
      }
     ]
    },
    "f2a1e0a22db04a3eacb620ddc63d8773": {
     "views": [
      {
       "cell_index": 4
      }
     ]
    }
   },
   "version": "1.2.0"
  }
 },
 "nbformat": 4,
 "nbformat_minor": 2
}
